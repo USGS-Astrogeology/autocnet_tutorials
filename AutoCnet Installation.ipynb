{
 "cells": [
  {
   "cell_type": "markdown",
   "metadata": {},
   "source": [
    "# Installing AutoCnet\n",
    "\n",
    "To start access https://github.com/USGS-Astrogeology/autocnet and click on download zip on the right side of the screen. This will start a zip download of all the files within the AutoCnet code library.\n",
    "\n",
    "When it finishes downloading, extract the files from the folder into whatever directory you want the AutoCnet files to go.\n",
    "\n",
    "You have installed AutoCnet and setup your anaconda environment, so you should be good to go."
   ]
  }
 ],
 "metadata": {
  "kernelspec": {
   "display_name": "Python 3",
   "language": "python",
   "name": "python3"
  },
  "language_info": {
   "codemirror_mode": {
    "name": "ipython",
    "version": 3
   },
   "file_extension": ".py",
   "mimetype": "text/x-python",
   "name": "python",
   "nbconvert_exporter": "python",
   "pygments_lexer": "ipython3",
   "version": "3.5.1"
  }
 },
 "nbformat": 4,
 "nbformat_minor": 0
}
